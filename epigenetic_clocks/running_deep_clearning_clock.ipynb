{
 "cells": [
  {
   "cell_type": "markdown",
   "id": "6817a894",
   "metadata": {},
   "source": [
    "# Steps to run the deep learning epigenetic clock\n",
    "\n",
    "Author: Jose Jaime Martinez Magana\n",
    "\n",
    "Day: 20 February 2023\n",
    "\n",
    "This script will run the deep learning epigenetic clocks in python.\n",
    "Follow this github https://github.com/rsinghlab/AltumAge for a complete description of deep lerning epigenetic clocks.\n",
    "\n",
    "To run this clocks, the beta matrices should be normalized by BMIQ."
   ]
  },
  {
   "cell_type": "code",
   "execution_count": null,
   "id": "48345ced",
   "metadata": {},
   "outputs": [],
   "source": [
    "# if you are using slurm job handler you could request resources with the following command\n",
    "# uncomment the next line for job request\n",
    "srun --pty --mem=32G -p interactive bash\n",
    "# if your server uses modules to handle packages and conda/anaconda/miniconda is install load your conda\n",
    "# uncomment the next line if you have miniconda installed in your server\n",
    "module load miniconda\n",
    "# conda activate environmnet\n",
    "conda activate epigenetic_clocks"
   ]
  },
  {
   "cell_type": "code",
   "execution_count": null,
   "id": "b0e7a324",
   "metadata": {},
   "outputs": [],
   "source": [
    "# downloading the scaler and AltumAge from github\n",
    "# change your path to the directory to save the data\n",
    "cd /vast/palmer/scratch/montalvo-ortiz/jjm262/epigenomics/ewas_saliva_ses/databases/epigenetic_clocks\n",
    "wget -O AltumAge.h5 https://github.com/rsinghlab/AltumAge/raw/main/example_dependencies/AltumAge.h5\n",
    "wget -O scaler.pkl https://github.com/rsinghlab/AltumAge/raw/main/example_dependencies/scaler.pkl\n",
    "wget -O multi_platform_cpgs.pkl https://github.com/rsinghlab/AltumAge/raw/main/example_dependencies/multi_platform_cpgs.pkl"
   ]
  },
  {
   "cell_type": "code",
   "execution_count": null,
   "id": "f145136b",
   "metadata": {},
   "outputs": [],
   "source": [
    "# oppening python\n",
    "python\n",
    "\n",
    "# running the deep learning clock\n",
    "import tensorflow as tf\n",
    "import numpy as np\n",
    "import pandas as pd\n",
    "from sklearn import linear_model, preprocessing\n",
    "from sklearn.impute import SimpleImputer\n",
    "from sklearn.preprocessing import MinMaxScaler\n",
    "\n",
    "# loading scaler from where you dawnload the file\n",
    "scaler = pd.read_pickle('https://github.com/rsinghlab/AltumAge/blob/main/example_dependencies/scaler.pkl')\n",
    "\n",
    "# loading AltumAge\n",
    "AltumAge = tf.keras.models.load_model('/vast/palmer/scratch/montalvo-ortiz/jjm262/epigenomics/ewas_saliva_ses/databases/epigenetic_clocks/AltumAge.h5')\n",
    "\n",
    "# loading cpgs sites\n",
    "cpgs = np.array(pd.read_pickle('/vast/palmer/scratch/montalvo-ortiz/jjm262/epigenomics/ewas_saliva_ses/databases/epigenetic_clocks/multi_platform_cpgs.pkl'))\n",
    "\n",
    "# uploading the beta matrix that we previous generate for glint\n",
    "data = pd.read_table(\"/vast/palmer/scratch/montalvo-ortiz/jjm262/epigenomics/ewas_saliva_ses/databases/qced/glint/qced_data_v02152023_datafile_beta.txt\")\n",
    "\n",
    "# if you use the beta matrix transpose the data\n",
    "# AltumAge requieres cpg as columns and samples as rows\n",
    "data_transposed = data.transpose()\n",
    "\n",
    "# sussetting to AltumAge cpgs\n",
    "data_transposed_filtered = data_transposed.filter(cpgs)\n",
    "\n",
    "# creating a NA pandas dataframe with the AltumAge header\n",
    "# this pandas dataframe will be all NaN values\n",
    "cpgs_df = pd.DataFrame(columns=cpgs, index=data_transposed.index)\n",
    "\n",
    "# merge the dataframes\n",
    "data_merged = pd.merge(data_transposed_filtered, cpgs_df, how='inner', left_index=True,\n",
    "                       right_index=True, suffixes=('', '_remove'))\n",
    "# remove duplicate columns\n",
    "data_merged.drop([i for i in data_merged.columns if 'remove' in i],\n",
    "                 axis=1, inplace=True)\n",
    "# detecting missing values\n",
    "print(data_merged.isnull().sum())\n",
    "\n",
    "# define scaler to set values between 0 and 1\n",
    "scaler = MinMaxScaler(feature_range=(0, 1))\n",
    "data_merged_scal = pd.DataFrame(scaler.fit_transform(data_merged), columns = data_merged.columns, index=data_merged.index)\n",
    "# first imputation with SimpleImputer\n",
    "# imputting missing values\n",
    "data_merged_imp = pd.DataFrame(SimpleImputer(strategy='constant').fit_transform(data_merged_scal), columns=data_merged_scal.columns, index=data_merged.index)\n",
    "\n",
    "# we should revise the prediction accuracy of AltumAge because we are using imputation to fill all missing columns with cero\n",
    "\n",
    "# running AltumAge\n",
    "pred_age_AltumAge = AltumAge.predict(data_merged_imp).flatten()\n",
    "# making pandas dataframe\n",
    "pred_age_AltumAge_df = pd.DataFrame(pred_age_AltumAge, index=data_merged_imp.index)\n",
    "# add column name to the data frame\n",
    "pred_age_AltumAge_df.columns=[\"AltumAge\"]\n",
    "\n",
    "# saving output\n",
    "pred_age_AltumAge_df.to_csv(\"/vast/palmer/scratch/montalvo-ortiz/jjm262/epigenomics/ewas_saliva_ses/results/epigenetic_age/altumage.csv\")\n",
    "\n",
    "# exit python\n",
    "exit()"
   ]
  }
 ],
 "metadata": {
  "kernelspec": {
   "display_name": "Python 3 (ipykernel)",
   "language": "python",
   "name": "python3"
  },
  "language_info": {
   "codemirror_mode": {
    "name": "ipython",
    "version": 3
   },
   "file_extension": ".py",
   "mimetype": "text/x-python",
   "name": "python",
   "nbconvert_exporter": "python",
   "pygments_lexer": "ipython3",
   "version": "3.9.12"
  }
 },
 "nbformat": 4,
 "nbformat_minor": 5
}
