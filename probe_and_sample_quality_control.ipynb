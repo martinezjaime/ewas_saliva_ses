{
 "cells": [
  {
   "cell_type": "markdown",
   "id": "ac065b56",
   "metadata": {},
   "source": [
    "# Quality control of samples and probes\n",
    "Author: Jose Jaime Martinez-Magana\n",
    "\n",
    "This script performs the quality control of the samples with data from 450K arrays"
   ]
  },
  {
   "cell_type": "code",
   "execution_count": null,
   "id": "6e386247",
   "metadata": {},
   "outputs": [],
   "source": [
    "# request computational resources\n",
    "srun --pty --mem=32G -p interactive bash\n",
    "# load environment\n",
    "module load miniconda\n",
    "# activate environment\n",
    "conda activate ewas_saliva"
   ]
  },
  {
   "cell_type": "code",
   "execution_count": null,
   "id": "f4ee506c",
   "metadata": {},
   "outputs": [],
   "source": [
    "# load R\n",
    "# add log messages\n",
    "R\n",
    "paste(\"Start loading data\")\n",
    "# load libraries\n",
    "# load idat files in minfi format\n",
    "library(minfi)\n",
    "library(EpiSCORE)\n",
    "library(EpiDISH)\n",
    "library(magrittr)\n",
    "library(plyr)\n",
    "library(dplyr)\n",
    "library(wateRmelon)\n",
    "\n",
    "# set directory for input idat files\n",
    "idat_p='/vast/palmer/scratch/montalvo-ortiz/jjm262/epigenomics/databases/raw'\n",
    "# set directory for input of phenofile\n",
    "pheno_p='/vast/palmer/scratch/montalvo-ortiz/jjm262/epigenomics/pheno/pheno_450k_ses_file_v02062023.csv'\n",
    "# set directory for output of beta matrices\n",
    "out_p='/vast/palmer/scratch/montalvo-ortiz/jjm262/epigenomics/databases/qced/qced_data_v02062023'\n",
    "paste0(\"Start analysis of data:\",Sys.time(),\"---\",\"###Analysis path[\",idat_p,\"]###\")\n",
    "paste0(\"QCed data will be saved to:\",Sys.time(),\"---\",\"###Analysis path[\",out_p,\"]###\")"
   ]
  },
  {
   "cell_type": "code",
   "execution_count": null,
   "id": "64f65c34",
   "metadata": {},
   "outputs": [],
   "source": [
    "# code for extracting the array information and building a target file for reading the data\n",
    "files=list.files(idat_p, recursive=TRUE, pattern=\"idat\")\n",
    "slide=strsplit(files, \"_\") %>% sapply(extract2, 1)\n",
    "array=strsplit(files, \"_\") %>% sapply(extract2, 2)\n",
    "SampleID=paste(slide,\"_\",array, sep=\"\")\n",
    "targets=file.path(idat_p, SampleID)\n",
    "samplesheet=data.frame(Sentrix_ID=slide,\n",
    "                       Sentrix_Position=array,\n",
    "                       Sample_name=SampleID,\n",
    "                       Pool_ID=rep(1:length(SampleID)),\n",
    "                       Sample_Plate=rep(1:length(SampleID)),\n",
    "                       Sample_Well=rep(1:length(SampleID)),\n",
    "                       Basename=targets)\n",
    "# removing duplicates, this step is necesary because we have two different chanels, read and green\n",
    "samplesheet = samplesheet[!duplicated(samplesheet$Basename),]\n",
    "# create an empty list to store the results\n",
    "out=list()\n",
    "# reading idat files with minfi\n",
    "paste0(\"Start reading idat files:\",Sys.time())\n",
    "out$rgset=read.metharray.exp(targets=samplesheet,\n",
    "                         extended = TRUE,\n",
    "                         verbose = TRUE)\n",
    "paste0(\"End reading idat files:\",Sys.time())"
   ]
  },
  {
   "cell_type": "code",
   "execution_count": null,
   "id": "415e4d3e",
   "metadata": {},
   "outputs": [],
   "source": [
    "# load sample sheet with phenotype information\n",
    "pheno=read.csv(pheno_p)\n",
    "# add the column identifing the samples to SampleID\n",
    "pheno$SampleID=pheno$ID\n",
    "# get the loaded samples from idat path\n",
    "idat_samples=rownames(out$rgset@colData)\n",
    "paste0(\"Checking if samples in  phenofile are in idat files\")\n",
    "paste0(\"Revise your phenofile if you see samples in FALSE\")\n",
    "missing_samples=pheno[!pheno$SampleID %in% idat_samples,]$SampleID\n",
    "paste0(\"The following samples are missing\")\n",
    "missing_samples\n",
    "paste0(\"Warning: this script will subset the samples to include only those found in the phenofile\")\n",
    "# extract samples to keep\n",
    "common_samples=pheno[pheno$SampleID %in% idat_samples,]$SampleID\n",
    "out$rgset=subsetByLoci(rgSet=out$rgset[,common_samples])\n",
    "f_samples=rownames(out$rgset@colData)\n",
    "f_samples1=length(rownames(out$rgset@colData))\n",
    "paste0(\"A total of: \",f_samples1, \" will be keep for further analysis\")\n",
    "# subsetting pheno to common samples\n",
    "pheno=pheno[pheno$SampleID %in% common_samples,]\n",
    "# ordering pheno based on rgset data\n",
    "pheno_or=pheno[match(pheno$SampleID, f_samples),]\n",
    "# adding array and slide as pheno rowname\n",
    "rownames(pheno_or)=pheno_or$SampleID\n",
    "out$pheno=pheno_or"
   ]
  },
  {
   "cell_type": "code",
   "execution_count": null,
   "id": "e01d9081",
   "metadata": {},
   "outputs": [],
   "source": [
    "# imputing sex with minfi\n",
    "# mapping array to genome\n",
    "out$predicted_sex=getSex(mapToGenome(out$rgset))\n",
    "# adding predicted sex to pheno file\n",
    "# recoding sex prediction\n",
    "out$pheno$predicted_sex2=ifelse(out$predicted_sex$predictedSex == \"F\", 0, 1)\n",
    "paste0('Warning, this script expects that sex is codify as 0 for females and 1 for males')\n",
    "out$pheno$predicted_sex=out$predicted_sex$predictedSex2\n",
    "# cheking sex prediction\n",
    "sex_mismatch=out$pheno[!out$pheno$predicted_sex==out$pheno$gender,]$SampleID\n",
    "# add sex mismatches samples to output\n",
    "out$sex_mismatch=sex_mismatch\n",
    "non_sex_mismatch=out$pheno[out$pheno$predicted_sex==out$pheno$gender,]$SampleID\n",
    "paste0('Warning removing: ',sex_mismatch, ' for sex mismatch')\n",
    "paste0('Removing sex mismatched samples from rgset')\n",
    "out$rgset=subsetByLoci(rgSet=out$rgset[,non_sex_mismatch])\n",
    "paste0('Removing sex mismatched samples from phenofile')\n",
    "out$pheno=out$pheno[rownames(out$pheno) %in% non_sex_mismatch,]"
   ]
  },
  {
   "cell_type": "code",
   "execution_count": null,
   "id": "694edcca",
   "metadata": {},
   "outputs": [],
   "source": [
    "# use non-specific probes for 450k from github: https://github.com/sirselim/illumina450k_filtering\n",
    "cre_450k=read.csv('/gpfs/gibbs/project/montalvo-ortiz/jjm262/analysis/epigenomics/ses/databases/illumina450k_filtering/48639-non-specific-probes-Illumina450k.csv')\n",
    "mul_450k=read.table('/gpfs/gibbs/project/montalvo-ortiz/jjm262/analysis/epigenomics/ses/databases/illumina450k_filtering/HumanMethylation450_15017482_v.1.1_hg19_bowtie_multimap.txt', header=FALSE)\n",
    "exclude_probes=unique(c(cre_450k$TargetID, mul_450k$V1))"
   ]
  },
  {
   "cell_type": "code",
   "execution_count": null,
   "id": "d74ebc7a",
   "metadata": {},
   "outputs": [],
   "source": [
    "# removing bead and low quality probes based on RAMWAS pipeline: https://github.com/andreyshabalin/ramwas\n",
    "lb=getNBeads(out$rgset) < 3\n",
    "pi1=getProbeInfo(out$rgset, type = \"I\")\n",
    "pi2=getProbeInfo(out$rgset, type = \"II\")\n",
    "ex1=pi1$Name[rowMeans(lb[pi1$AddressA,] | lb[pi1$AddressB,]) > 0.01]\n",
    "ex2=pi2$Name[rowMeans(lb[pi2$AddressA,]) > 0.01]\n",
    "exclude_bds=unique(c(ex1, ex2))\n",
    "# low detection p-value\n",
    "hp=detectionP(out$rgset) > 0.01\n",
    "exclude_hpv=rownames(hp)[rowMeans(hp) > 0.01]\n",
    "keep_samples=colMeans(hp) < 0.01\n",
    "paste0('Removing samples and bad cpg sites from rgset')\n",
    "out$rgset=subsetByLoci(\n",
    "    rgSet = out$rgset[,keep_samples],\n",
    "    excludeLoci = c(exclude_probes, exclude_bds, exclude_hpv))\n",
    "# add excluded probes to output\n",
    "out$excluded_probes=unique(c(exclude_probes, exclude_bds, exclude_hpv))\n",
    "paste0('Removing samples from phenofile')\n",
    "bad_quality_samples=out$pheno[!rownames(out$pheno) %in% colnames(out$rgset),]$SampleID\n",
    "# add bad quality samples to output\n",
    "out$bad_quality_samples=bad_quality_samples\n",
    "non_bad_quality_samples=out$pheno[rownames(out$pheno) %in% colnames(out$rgset),]$SampleID\n",
    "paste0('Warning removing: ', bad_quality_samples, ' for bad quality samples')\n",
    "# matching sample order again\n",
    "out$pheno=out$pheno[rownames(out$pheno) %in% non_bad_quality_samples,]\n",
    "out$pheno=pheno[match(rownames(out$pheno),colnames(out$rgset)),]"
   ]
  },
  {
   "cell_type": "code",
   "execution_count": null,
   "id": "5218b746",
   "metadata": {},
   "outputs": [],
   "source": [
    "# starting normalization \n",
    "# fixing outliers\n",
    "out$rgsetraw=fixMethOutliers(preprocessRaw(out$rgset))\n",
    "# BMIQ normalization\n",
    "out$rgsetraw_bmiq=BMIQ(out$rgsetraw)"
   ]
  },
  {
   "cell_type": "code",
   "execution_count": null,
   "id": "49517a9e",
   "metadata": {},
   "outputs": [],
   "source": [
    "# estimating cell-type proportions\n",
    "# estimating cell type proportions\n",
    "# using epidish\n",
    "out$cell_epidish=hepidish(beta.m=out$rgsetraw_bmiq,\n",
    "                ref1.m=centEpiFibIC.m,\n",
    "                ref2.m=centBloodSub.m,\n",
    "                h.CT.idx=3, method = 'RPC')\n",
    "##Construction of DNAm matrix at gene-level\n",
    "avDNAm.m=constAvBetaTSS(beta.m=out$rgsetraw_bmiq, type=\"450k\")\n",
    "out$cell_episcore=wRPC(avDNAm.m,\n",
    "                       mrefSkin.m,\n",
    "                       useW = TRUE,\n",
    "                       wth=0.4,\n",
    "                       maxit = 100)"
   ]
  },
  {
   "cell_type": "code",
   "execution_count": null,
   "id": "2b5518c7",
   "metadata": {},
   "outputs": [],
   "source": [
    "# estimating pcs with control probes based on RAMWAS pipeline: https://github.com/andreyshabalin/ramwas\n",
    "control_type=unique(getManifest(out$rgset)@data$TypeControl$Type)\n",
    "control_set=getControlAddress(out$rgset, controlType=control_type)\n",
    "probe_data=rbind(getRed(out$rgset)[control_set,], getGreen(out$rgset)[control_set,])\n",
    "data=probe_data-rowMeans(probe_data)\n",
    "out$eig=prcomp(data)"
   ]
  },
  {
   "cell_type": "code",
   "execution_count": null,
   "id": "8fad4364",
   "metadata": {},
   "outputs": [],
   "source": [
    "# get unmethylated and methylated proportions\n",
    "out$covariates_umm=getQC(out$rgsetraw)"
   ]
  },
  {
   "cell_type": "code",
   "execution_count": null,
   "id": "6342022d",
   "metadata": {},
   "outputs": [],
   "source": [
    "# saving output\n",
    "# saving the whole output\n",
    "saveRDS(out,paste0(out_p,\".rds\"))\n",
    "# saving the txt beta matrice for glint\n",
    " write.table(out$rgsetraw_bmiq, file=paste0(out_p,\"_for_glint.txt\"), quote=FALSE, sep=\"\\t\")"
   ]
  }
 ],
 "metadata": {
  "kernelspec": {
   "display_name": "R",
   "language": "R",
   "name": "ir"
  },
  "language_info": {
   "codemirror_mode": "r",
   "file_extension": ".r",
   "mimetype": "text/x-r-source",
   "name": "R",
   "pygments_lexer": "r",
   "version": "4.1.3"
  }
 },
 "nbformat": 4,
 "nbformat_minor": 5
}
