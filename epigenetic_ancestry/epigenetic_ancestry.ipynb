{
 "cells": [
  {
   "cell_type": "markdown",
   "id": "890791d7",
   "metadata": {},
   "source": [
    "# Script to perform epigenetic ancestry\n",
    "Author: Jose Jaime Martinez-Magana\n",
    "Day: 07February2023\n",
    "This script will build the data for glint, perform epigenetic ancestry and estimate ancestry PCs using glint\n",
    "(https://github.com/cozygene/glint)"
   ]
  },
  {
   "cell_type": "code",
   "execution_count": null,
   "id": "5525eee9",
   "metadata": {},
   "outputs": [],
   "source": [
    "# request computational resources\n",
    "srun --pty --mem=32G -p interactive bash\n",
    "# load environment\n",
    "module load miniconda\n",
    "# activate environment\n",
    "conda activate glint"
   ]
  },
  {
   "cell_type": "code",
   "execution_count": null,
   "id": "00abae65",
   "metadata": {},
   "outputs": [],
   "source": [
    "# set glint path\n",
    "glint_path=\"/gpfs/gibbs/project/montalvo-ortiz/jjm262/programs/glint/glint.py\"\n",
    "# input data path\n",
    "data_p=\"/vast/palmer/scratch/montalvo-ortiz/jjm262/epigenomics/ewas_saliva_ses/databases/qced\"\n",
    "# transform beta matrix to glint format\n",
    "python $glint_path --datafile $data_p/qced_data_v02062023_for_glint.txt --gsave --out $data_p/qced_data_v02062023_glint_format"
   ]
  },
  {
   "cell_type": "code",
   "execution_count": null,
   "id": "875426f4",
   "metadata": {},
   "outputs": [],
   "source": [
    "# infering population structure\n",
    "# setting pcs file\n",
    "pc_file=\"/vast/palmer/scratch/montalvo-ortiz/jjm262/epigenomics/ewas_saliva_ses/pcs/glint_epi_children_v08February2023\"\n",
    "python $glint_path --datafile $data_p/qced_data_v02062023_glint_format.glint --epi --savepcs 10 --out $pc_file\n",
    "# deactivate environment\n",
    "conda deactivate\n",
    "# end"
   ]
  }
 ],
 "metadata": {
  "kernelspec": {
   "display_name": "Python 3 (ipykernel)",
   "language": "python",
   "name": "python3"
  },
  "language_info": {
   "codemirror_mode": {
    "name": "ipython",
    "version": 3
   },
   "file_extension": ".py",
   "mimetype": "text/x-python",
   "name": "python",
   "nbconvert_exporter": "python",
   "pygments_lexer": "ipython3",
   "version": "3.9.12"
  }
 },
 "nbformat": 4,
 "nbformat_minor": 5
}
