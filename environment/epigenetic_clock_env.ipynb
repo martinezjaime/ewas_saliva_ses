{
 "cells": [
  {
   "cell_type": "markdown",
   "id": "e676a5e0",
   "metadata": {
    "kernel": "SoS"
   },
   "source": [
    "# Steps to install the environment for epigenetic clocks\n",
    "\n",
    "Author: Jose Jaime Martinez Magana\n",
    "\n",
    "Day: 20 February 2023\n",
    "\n",
    "## Optional step - setting environment for epigenetic clocks\n",
    "\n",
    "This script will build a conda environment to run epigenetic clocks in R and python.\n",
    "We will install the environmnet to run epigenetic age following this github:\n",
    "https://github.com/yiluyucheng/dnaMethyAge for clasic epigenetic clocks and https://github.com/rsinghlab/AltumAge for deep lerning epigenetic clocks.\n",
    "\n",
    "To run this clocks, the beta matrices should be normalized by BMIQ."
   ]
  },
  {
   "cell_type": "code",
   "execution_count": null,
   "id": "b70e1af5",
   "metadata": {
    "kernel": "SoS"
   },
   "outputs": [],
   "source": [
    "# if you are using slurm job handler you could request resources with the following command\n",
    "# uncomment the next line for job request\n",
    "# srun --pty --mem=8G -p interactive bash\n",
    "# if your server uses modules to handle packages and conda/anaconda/miniconda is install load your conda\n",
    "# uncomment the next line if you have miniconda installed in your server\n",
    "module load miniconda\n",
    "# creating conda environment\n",
    "# this will create an environment named ewas_saliva\n",
    "conda create --name epigenetic_clocks\n",
    "# conda activate environmnet\n",
    "conda activate epigenetic_clocks"
   ]
  },
  {
   "cell_type": "code",
   "execution_count": null,
   "id": "eab87151",
   "metadata": {
    "kernel": "SoS"
   },
   "outputs": [],
   "source": [
    "# install R via conda\n",
    "conda install -c conda-forge r-base\n",
    "# install bioconductor and devtools\n",
    "conda install -c conda-forge r-devtools\n",
    "\n",
    "# installing dnaMethyAge from https://github.com/yiluyucheng/dnaMethyAge from GitHub\n",
    "# enter R\n",
    "R\n",
    "# load devtools library\n",
    "library(devtools)\n",
    "# install repository\n",
    "devtools::install_github(\"yiluyucheng/dnaMethyAge\")\n",
    "# exit R\n",
    "q()\n",
    "\n",
    "# installing AltumAge from https://github.com/rsinghlab/AltumAge\n",
    "# installing numpy\n",
    "conda install -c anaconda numpy\n",
    "# installing pandas\n",
    "conda install -c anaconda pandas\n",
    "# installing sklearn\n",
    "conda install -c anaconda scikit-learn\n",
    "# install tensorflow version 2.5.0\n",
    "conda install -c conda-forge tensorflow\n",
    "# install optparser library for R\n",
    "conda install -c conda-forge r-optparse\n",
    "\n",
    "# deactivate environment\n",
    "conda deactivate"
   ]
  }
 ],
 "metadata": {
  "kernelspec": {
   "display_name": "SoS",
   "language": "sos",
   "name": "sos"
  },
  "language_info": {
   "codemirror_mode": "sos",
   "file_extension": ".sos",
   "mimetype": "text/x-sos",
   "name": "sos",
   "nbconvert_exporter": "sos_notebook.converter.SoS_Exporter",
   "pygments_lexer": "sos"
  },
  "sos": {
   "kernels": [],
   "panel": {
    "displayed": true,
    "height": 0
   },
   "version": "0.24.0"
  }
 },
 "nbformat": 4,
 "nbformat_minor": 5
}
