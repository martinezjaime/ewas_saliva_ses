{
 "cells": [
  {
   "cell_type": "markdown",
   "id": "66e22c91",
   "metadata": {},
   "source": [
    "# Script for making list of subset of individuals to analyze using linear models\n",
    "\n",
    "Author: Jose Jaime Martinez-Magana\n",
    "\n",
    "Day: 14 February 2023\n",
    "\n",
    "This script will make list of individuals to run linear models using several samples subsets."
   ]
  },
  {
   "cell_type": "code",
   "execution_count": null,
   "id": "432d4e4a",
   "metadata": {},
   "outputs": [],
   "source": [
    "# if you have slurm work handler, request computational resources\n",
    "# request computational resources\n",
    "srun --pty --mem=32G -p interactive bash\n",
    "# load environment\n",
    "module load miniconda\n",
    "# activate environment\n",
    "conda activate ewas_saliva\n",
    "# this step should be included in a bash script"
   ]
  },
  {
   "cell_type": "code",
   "execution_count": null,
   "id": "48b79cf9",
   "metadata": {},
   "outputs": [],
   "source": [
    "# this script will use the output qcdata following this github https://github.com/martinezjaime/ewas_saliva_ses/blob/main/qc_data/probe_and_sample_quality_control.ipynb\n",
    "# reading phenotype information\n",
    "opt=list()\n",
    "opt$file=\"/vast/palmer/scratch/montalvo-ortiz/jjm262/epigenomics/ewas_saliva_ses/databases/qced/qced_data_v02062023.rds\"\n",
    "# setting output paths\n",
    "opt$out=\"/vast/palmer/scratch/montalvo-ortiz/jjm262/epigenomics/ewas_saliva_ses/samplelist/\"\n",
    "opt$outname=\"sample_subset\""
   ]
  },
  {
   "cell_type": "code",
   "execution_count": null,
   "id": "6cfbaf16",
   "metadata": {},
   "outputs": [],
   "source": [
    "# loading library\n",
    "library(dplyr)\n",
    "\n",
    "# loading rds\n",
    "paste0(\"Start analysis of data:\",Sys.time(),\"---\",\"###Analysis path[\",opt$file,\"]###\")\n",
    "file=readRDS(opt$file)\n",
    "# setting output file\n",
    "outfile=paste0(opt$out,opt$outname,sep=\"\")\n",
    "paste0(\"Output of these script will be saved to:\",Sys.time(),\"---\",\"###Analysis path[\",outfile,\"]###\")"
   ]
  },
  {
   "cell_type": "code",
   "execution_count": null,
   "id": "3b412e5e",
   "metadata": {},
   "outputs": [],
   "source": [
    "# loading phenotype file\n",
    "paste0(\"Loading pheno file:\",Sys.time())\n",
    "# getting phenodata\n",
    "pheno_data=file$pheno\n",
    "# add SampleID as rownames\n",
    "rownames(pheno_data)=pheno_data$SampleID"
   ]
  },
  {
   "cell_type": "code",
   "execution_count": null,
   "id": "2ec7f939",
   "metadata": {},
   "outputs": [],
   "source": [
    "# transforming familyID from characther to numberic\n",
    "# this part of the script is unique for SES analysis in children, have to be removed from new versions of the script\n",
    "pheno_data$Family_ID=as.numeric(gsub('-','',pheno_data$Family_ID))\n",
    "\n",
    "# based on family ID\n",
    "# table(duplicated(pheno_data$Family_ID))\n",
    "# we have 108 samples with unique Family_ID and 37 in the same Family_ID\n",
    "\n",
    "# select only one random sample from duplicates\n",
    "# setting seed for replicability\n",
    "set.seed(123456)\n",
    "# using dplyr to subset only one random sample using Family_ID\n",
    "# this script will select only one sample based on the Family_ID\n",
    "# selecting only unrelated individuals based on Family ID\n",
    "pheno_data_unrel=pheno_data %>% \n",
    "                    group_by(Family_ID) %>%\n",
    "                    sample_n(1)"
   ]
  },
  {
   "cell_type": "code",
   "execution_count": null,
   "id": "fdd5307d",
   "metadata": {},
   "outputs": [],
   "source": [
    "# first select unrelated individuals for linear models\n",
    "# self-reported race\n",
    "# table(pheno_data_unique$race)\n",
    "# we have the following numbers\n",
    "# 1   2   6   7  999 \n",
    "# 84  7   7   2  8 \n",
    "\n",
    "# get only unrelated individuals\n",
    "pheno_data_unrel_list=pheno_data_unrel$SampleID\n",
    "\n",
    "# subset females\n",
    "pheno_data_unrel_females_list=pheno_data_unrel[pheno_data_unrel$gender == 0,]$SampleID\n",
    "\n",
    "# subset males\n",
    "pheno_data_unrel_males_list=pheno_data_unrel[pheno_data_unrel$gender == 1,]$SampleID"
   ]
  },
  {
   "cell_type": "code",
   "execution_count": null,
   "id": "abe7ce6b",
   "metadata": {},
   "outputs": [],
   "source": [
    "# subsetting only based on sex for mixed linear models, stratify by gender\n",
    "# subset related females\n",
    "pheno_data_rel_females_list=pheno_data[pheno_data$gender == 0,]$SampleID\n",
    "\n",
    "# subset related males\n",
    "pheno_data_rel_males_list=pheno_data[pheno_data$gender == 1,]$SampleID"
   ]
  },
  {
   "cell_type": "code",
   "execution_count": null,
   "id": "6b8f6e6b",
   "metadata": {},
   "outputs": [],
   "source": [
    "# writting list for statistical testing\n",
    "# we are writting csv files with the name of Array_Slide, because the script for statistical testing\n",
    "# https://github.com/martinezjaime/ewas_saliva_ses/blob/main/assoc/assoc_linear_models.ipynb\n",
    "# https://github.com/martinezjaime/ewas_saliva_ses/blob/main/assoc/assoc_mixed_linear_models.ipynb\n",
    "# uses this structure for statistical testing\n",
    "# saving unrelated individuals\n",
    "write.csv(file=paste0(outfile,'_unrelated_v02142023.csv',sep=''),\n",
    "          pheno_data_unrel_list,\n",
    "          quote=FALSE,\n",
    "          row.names=FALSE)\n",
    "\n",
    "write.csv(file=paste0(outfile,'_unrelated_females_v02142023.csv',sep=''),\n",
    "          pheno_data_unrel_females_list,\n",
    "          quote=FALSE,\n",
    "          row.names=FALSE)\n",
    "\n",
    "write.csv(file=paste0(outfile,'_unrelated_males_v02142023.csv',sep=''),\n",
    "          pheno_data_unrel_males_list,\n",
    "          quote=FALSE,\n",
    "          row.names=FALSE)\n",
    "\n",
    "# saving related individuals\n",
    "write.csv(file=paste0(outfile,'_related_females_v02142023.csv',sep=''),\n",
    "          pheno_data_rel_females_list,\n",
    "          quote=FALSE,\n",
    "          row.names=FALSE)\n",
    "\n",
    "write.csv(file=paste0(outfile,'_related_males_v02142023.csv',sep=''),\n",
    "          pheno_data_rel_males_list,\n",
    "          quote=FALSE,\n",
    "          row.names=FALSE)\n",
    "\n",
    "paste0('Warning: manually add SampleID as header to all this files, or the assoc scripts will failed')"
   ]
  }
 ],
 "metadata": {
  "kernelspec": {
   "display_name": "R",
   "language": "R",
   "name": "ir"
  },
  "language_info": {
   "codemirror_mode": "r",
   "file_extension": ".r",
   "mimetype": "text/x-r-source",
   "name": "R",
   "pygments_lexer": "r",
   "version": "4.1.3"
  }
 },
 "nbformat": 4,
 "nbformat_minor": 5
}
